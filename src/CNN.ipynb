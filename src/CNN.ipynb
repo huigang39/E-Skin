{
 "cells": [
  {
   "cell_type": "code",
   "execution_count": 33,
   "metadata": {},
   "outputs": [],
   "source": [
    "import numpy as np\n",
    "import pandas as pd\n",
    "\n",
    "import tensorflow as tf\n",
    "\n",
    "from tensorflow import feature_column\n",
    "from tensorflow.python.keras import layers\n",
    "from sklearn.model_selection import train_test_split"
   ]
  },
  {
   "cell_type": "code",
   "execution_count": 34,
   "metadata": {},
   "outputs": [],
   "source": [
    "dataframe = pd.read_csv('/home/huigang39/e-skin/data/emg_all_features_labeled.csv', header=None)"
   ]
  },
  {
   "cell_type": "code",
   "execution_count": 35,
   "metadata": {},
   "outputs": [
    {
     "data": {
      "text/html": [
       "<div>\n",
       "<style scoped>\n",
       "    .dataframe tbody tr th:only-of-type {\n",
       "        vertical-align: middle;\n",
       "    }\n",
       "\n",
       "    .dataframe tbody tr th {\n",
       "        vertical-align: top;\n",
       "    }\n",
       "\n",
       "    .dataframe thead th {\n",
       "        text-align: right;\n",
       "    }\n",
       "</style>\n",
       "<table border=\"1\" class=\"dataframe\">\n",
       "  <thead>\n",
       "    <tr style=\"text-align: right;\">\n",
       "      <th></th>\n",
       "      <th>0</th>\n",
       "      <th>1</th>\n",
       "      <th>2</th>\n",
       "      <th>3</th>\n",
       "      <th>4</th>\n",
       "      <th>5</th>\n",
       "      <th>6</th>\n",
       "      <th>7</th>\n",
       "      <th>8</th>\n",
       "      <th>9</th>\n",
       "      <th>...</th>\n",
       "      <th>71</th>\n",
       "      <th>72</th>\n",
       "      <th>73</th>\n",
       "      <th>74</th>\n",
       "      <th>75</th>\n",
       "      <th>76</th>\n",
       "      <th>77</th>\n",
       "      <th>78</th>\n",
       "      <th>79</th>\n",
       "      <th>80</th>\n",
       "    </tr>\n",
       "  </thead>\n",
       "  <tbody>\n",
       "    <tr>\n",
       "      <th>0</th>\n",
       "      <td>0.029437</td>\n",
       "      <td>0.051465</td>\n",
       "      <td>0.089432</td>\n",
       "      <td>0.016893</td>\n",
       "      <td>0.014127</td>\n",
       "      <td>0.017735</td>\n",
       "      <td>0.019645</td>\n",
       "      <td>0.014079</td>\n",
       "      <td>0.030692</td>\n",
       "      <td>0.052209</td>\n",
       "      <td>...</td>\n",
       "      <td>2.3516</td>\n",
       "      <td>2</td>\n",
       "      <td>3</td>\n",
       "      <td>6</td>\n",
       "      <td>0</td>\n",
       "      <td>0</td>\n",
       "      <td>1</td>\n",
       "      <td>1</td>\n",
       "      <td>0</td>\n",
       "      <td>1</td>\n",
       "    </tr>\n",
       "    <tr>\n",
       "      <th>1</th>\n",
       "      <td>0.035060</td>\n",
       "      <td>0.025699</td>\n",
       "      <td>0.025286</td>\n",
       "      <td>0.020039</td>\n",
       "      <td>0.012505</td>\n",
       "      <td>0.016996</td>\n",
       "      <td>0.017674</td>\n",
       "      <td>0.014974</td>\n",
       "      <td>0.036073</td>\n",
       "      <td>0.027496</td>\n",
       "      <td>...</td>\n",
       "      <td>2.3906</td>\n",
       "      <td>3</td>\n",
       "      <td>2</td>\n",
       "      <td>2</td>\n",
       "      <td>2</td>\n",
       "      <td>0</td>\n",
       "      <td>0</td>\n",
       "      <td>1</td>\n",
       "      <td>1</td>\n",
       "      <td>1</td>\n",
       "    </tr>\n",
       "    <tr>\n",
       "      <th>2</th>\n",
       "      <td>0.043982</td>\n",
       "      <td>0.033187</td>\n",
       "      <td>0.071985</td>\n",
       "      <td>0.018900</td>\n",
       "      <td>0.016712</td>\n",
       "      <td>0.025793</td>\n",
       "      <td>0.025291</td>\n",
       "      <td>0.020268</td>\n",
       "      <td>0.044961</td>\n",
       "      <td>0.034351</td>\n",
       "      <td>...</td>\n",
       "      <td>2.7813</td>\n",
       "      <td>3</td>\n",
       "      <td>2</td>\n",
       "      <td>4</td>\n",
       "      <td>0</td>\n",
       "      <td>1</td>\n",
       "      <td>2</td>\n",
       "      <td>1</td>\n",
       "      <td>2</td>\n",
       "      <td>1</td>\n",
       "    </tr>\n",
       "    <tr>\n",
       "      <th>3</th>\n",
       "      <td>0.032677</td>\n",
       "      <td>0.031038</td>\n",
       "      <td>0.033345</td>\n",
       "      <td>0.020213</td>\n",
       "      <td>0.016290</td>\n",
       "      <td>0.028113</td>\n",
       "      <td>0.027834</td>\n",
       "      <td>0.019944</td>\n",
       "      <td>0.033778</td>\n",
       "      <td>0.032369</td>\n",
       "      <td>...</td>\n",
       "      <td>2.4141</td>\n",
       "      <td>2</td>\n",
       "      <td>1</td>\n",
       "      <td>1</td>\n",
       "      <td>0</td>\n",
       "      <td>0</td>\n",
       "      <td>2</td>\n",
       "      <td>2</td>\n",
       "      <td>1</td>\n",
       "      <td>1</td>\n",
       "    </tr>\n",
       "    <tr>\n",
       "      <th>4</th>\n",
       "      <td>0.032101</td>\n",
       "      <td>0.029580</td>\n",
       "      <td>0.035939</td>\n",
       "      <td>0.037279</td>\n",
       "      <td>0.014564</td>\n",
       "      <td>0.022579</td>\n",
       "      <td>0.018042</td>\n",
       "      <td>0.015792</td>\n",
       "      <td>0.033035</td>\n",
       "      <td>0.030936</td>\n",
       "      <td>...</td>\n",
       "      <td>2.3516</td>\n",
       "      <td>2</td>\n",
       "      <td>1</td>\n",
       "      <td>6</td>\n",
       "      <td>4</td>\n",
       "      <td>0</td>\n",
       "      <td>1</td>\n",
       "      <td>0</td>\n",
       "      <td>0</td>\n",
       "      <td>1</td>\n",
       "    </tr>\n",
       "  </tbody>\n",
       "</table>\n",
       "<p>5 rows × 81 columns</p>\n",
       "</div>"
      ],
      "text/plain": [
       "         0         1         2         3         4         5         6    \n",
       "0  0.029437  0.051465  0.089432  0.016893  0.014127  0.017735  0.019645  \\\n",
       "1  0.035060  0.025699  0.025286  0.020039  0.012505  0.016996  0.017674   \n",
       "2  0.043982  0.033187  0.071985  0.018900  0.016712  0.025793  0.025291   \n",
       "3  0.032677  0.031038  0.033345  0.020213  0.016290  0.028113  0.027834   \n",
       "4  0.032101  0.029580  0.035939  0.037279  0.014564  0.022579  0.018042   \n",
       "\n",
       "         7         8         9   ...      71  72  73  74  75  76  77  78  79   \n",
       "0  0.014079  0.030692  0.052209  ...  2.3516   2   3   6   0   0   1   1   0  \\\n",
       "1  0.014974  0.036073  0.027496  ...  2.3906   3   2   2   2   0   0   1   1   \n",
       "2  0.020268  0.044961  0.034351  ...  2.7813   3   2   4   0   1   2   1   2   \n",
       "3  0.019944  0.033778  0.032369  ...  2.4141   2   1   1   0   0   2   2   1   \n",
       "4  0.015792  0.033035  0.030936  ...  2.3516   2   1   6   4   0   1   0   0   \n",
       "\n",
       "   80  \n",
       "0   1  \n",
       "1   1  \n",
       "2   1  \n",
       "3   1  \n",
       "4   1  \n",
       "\n",
       "[5 rows x 81 columns]"
      ]
     },
     "execution_count": 35,
     "metadata": {},
     "output_type": "execute_result"
    }
   ],
   "source": [
    "dataframe.head()"
   ]
  },
  {
   "cell_type": "code",
   "execution_count": 36,
   "metadata": {},
   "outputs": [
    {
     "name": "stdout",
     "output_type": "stream",
     "text": [
      "4366 train examples\n",
      "1092 validation examples\n",
      "1365 test examples\n"
     ]
    }
   ],
   "source": [
    "train, test = train_test_split(dataframe, test_size=0.2)\n",
    "train, val = train_test_split(train, test_size=0.2)\n",
    "print(len(train), 'train examples')\n",
    "print(len(val), 'validation examples')\n",
    "print(len(test), 'test examples')"
   ]
  },
  {
   "cell_type": "code",
   "execution_count": 37,
   "metadata": {},
   "outputs": [],
   "source": [
    "# 从 Pandas Dataframe 创建 tf.data 数据集的实用方法\n",
    "def df_to_dataset(dataframe, shuffle=True, batch_size=32):\n",
    "  dataframe = dataframe.copy()\n",
    "  labels = dataframe.pop(dataframe.columns[80])\n",
    "  ds = tf.data.Dataset.from_tensor_slices((dict(dataframe), labels))\n",
    "  if shuffle:\n",
    "    ds = ds.shuffle(buffer_size=len(dataframe))\n",
    "  ds = ds.batch(batch_size)\n",
    "  return ds\n",
    "batch_size = 5 # 小批量用于演示目的\n",
    "train_ds = df_to_dataset(train, batch_size=batch_size)\n",
    "val_ds = df_to_dataset(val, shuffle=False, batch_size=batch_size)\n",
    "test_ds = df_to_dataset(test, shuffle=False, batch_size=batch_size)"
   ]
  },
  {
   "cell_type": "code",
   "execution_count": 38,
   "metadata": {},
   "outputs": [
    {
     "name": "stderr",
     "output_type": "stream",
     "text": [
      "2023-05-27 17:49:22.510465: I tensorflow/core/common_runtime/executor.cc:1197] [/device:CPU:0] (DEBUG INFO) Executor start aborting (this does not indicate an error and you can ignore this message): INVALID_ARGUMENT: You must feed a value for placeholder tensor 'Placeholder/_12' with dtype double and shape [4366]\n",
      "\t [[{{node Placeholder/_12}}]]\n",
      "2023-05-27 17:49:22.513436: I tensorflow/core/common_runtime/executor.cc:1197] [/device:CPU:0] (DEBUG INFO) Executor start aborting (this does not indicate an error and you can ignore this message): INVALID_ARGUMENT: You must feed a value for placeholder tensor 'Placeholder/_60' with dtype double and shape [4366]\n",
      "\t [[{{node Placeholder/_60}}]]\n"
     ]
    },
    {
     "name": "stdout",
     "output_type": "stream",
     "text": [
      "Every feature: [0, 1, 2, 3, 4, 5, 6, 7, 8, 9, 10, 11, 12, 13, 14, 15, 16, 17, 18, 19, 20, 21, 22, 23, 24, 25, 26, 27, 28, 29, 30, 31, 32, 33, 34, 35, 36, 37, 38, 39, 40, 41, 42, 43, 44, 45, 46, 47, 48, 49, 50, 51, 52, 53, 54, 55, 56, 57, 58, 59, 60, 61, 62, 63, 64, 65, 66, 67, 68, 69, 70, 71, 72, 73, 74, 75, 76, 77, 78, 79]\n",
      "A batch of ages: tf.Tensor([0.026755 0.066721 0.016353 0.042526 0.09917 ], shape=(5,), dtype=float64)\n",
      "A batch of targets: tf.Tensor([3 3 5 1 7], shape=(5,), dtype=int64)\n"
     ]
    }
   ],
   "source": [
    "for feature_batch, label_batch in train_ds.take(1):\n",
    "  print('Every feature:', list(feature_batch.keys()))\n",
    "  print('A batch of ages:', feature_batch[dataframe.columns[0]])\n",
    "  print('A batch of targets:', label_batch )"
   ]
  },
  {
   "cell_type": "code",
   "execution_count": 39,
   "metadata": {},
   "outputs": [
    {
     "name": "stderr",
     "output_type": "stream",
     "text": [
      "2023-05-27 17:49:22.892596: I tensorflow/core/common_runtime/executor.cc:1197] [/device:CPU:0] (DEBUG INFO) Executor start aborting (this does not indicate an error and you can ignore this message): INVALID_ARGUMENT: You must feed a value for placeholder tensor 'Placeholder/_41' with dtype double and shape [4366]\n",
      "\t [[{{node Placeholder/_41}}]]\n",
      "2023-05-27 17:49:22.897393: I tensorflow/core/common_runtime/executor.cc:1197] [/device:CPU:0] (DEBUG INFO) Executor start aborting (this does not indicate an error and you can ignore this message): INVALID_ARGUMENT: You must feed a value for placeholder tensor 'Placeholder/_71' with dtype double and shape [4366]\n",
      "\t [[{{node Placeholder/_71}}]]\n"
     ]
    }
   ],
   "source": [
    "# We will use this batch to demonstrate several types of feature columns\n",
    "example_batch = next(iter(train_ds))[0]"
   ]
  },
  {
   "cell_type": "code",
   "execution_count": 40,
   "metadata": {},
   "outputs": [],
   "source": [
    "# A utility method to create a feature column\n",
    "# and to transform a batch of data\n",
    "def demo(feature_column):\n",
    "  feature_layer = layers.DenseFeatures(feature_column)\n",
    "  print(feature_layer(example_batch).numpy())"
   ]
  },
  {
   "cell_type": "code",
   "execution_count": 41,
   "metadata": {},
   "outputs": [
    {
     "ename": "AttributeError",
     "evalue": "module 'tensorflow.python.keras.layers' has no attribute 'DenseFeatures'",
     "output_type": "error",
     "traceback": [
      "\u001b[0;31m---------------------------------------------------------------------------\u001b[0m",
      "\u001b[0;31mAttributeError\u001b[0m                            Traceback (most recent call last)",
      "Cell \u001b[0;32mIn[41], line 2\u001b[0m\n\u001b[1;32m      1\u001b[0m photo_count \u001b[39m=\u001b[39m feature_column\u001b[39m.\u001b[39mnumeric_column(\u001b[39m'\u001b[39m\u001b[39mPhotoAmt\u001b[39m\u001b[39m'\u001b[39m)\n\u001b[0;32m----> 2\u001b[0m demo(photo_count)\n",
      "Cell \u001b[0;32mIn[40], line 4\u001b[0m, in \u001b[0;36mdemo\u001b[0;34m(feature_column)\u001b[0m\n\u001b[1;32m      3\u001b[0m \u001b[39mdef\u001b[39;00m \u001b[39mdemo\u001b[39m(feature_column):\n\u001b[0;32m----> 4\u001b[0m   feature_layer \u001b[39m=\u001b[39m layers\u001b[39m.\u001b[39;49mDenseFeatures(feature_column)\n\u001b[1;32m      5\u001b[0m   \u001b[39mprint\u001b[39m(feature_layer(example_batch)\u001b[39m.\u001b[39mnumpy())\n",
      "\u001b[0;31mAttributeError\u001b[0m: module 'tensorflow.python.keras.layers' has no attribute 'DenseFeatures'"
     ]
    },
    {
     "ename": "",
     "evalue": "",
     "output_type": "error",
     "traceback": [
      "\u001b[1;31mThe Kernel crashed while executing code in the the current cell or a previous cell. Please review the code in the cell(s) to identify a possible cause of the failure. Click <a href='https://aka.ms/vscodeJupyterKernelCrash'>here</a> for more info. View Jupyter <a href='command:jupyter.viewOutput'>log</a> for further details."
     ]
    }
   ],
   "source": [
    "photo_count = feature_column.numeric_column('PhotoAmt')\n",
    "demo(photo_count)"
   ]
  },
  {
   "cell_type": "code",
   "execution_count": null,
   "metadata": {},
   "outputs": [],
   "source": []
  }
 ],
 "metadata": {
  "kernelspec": {
   "display_name": "Python 3",
   "language": "python",
   "name": "python3"
  },
  "language_info": {
   "codemirror_mode": {
    "name": "ipython",
    "version": 3
   },
   "file_extension": ".py",
   "mimetype": "text/x-python",
   "name": "python",
   "nbconvert_exporter": "python",
   "pygments_lexer": "ipython3",
   "version": "3.10.6"
  },
  "orig_nbformat": 4
 },
 "nbformat": 4,
 "nbformat_minor": 2
}
